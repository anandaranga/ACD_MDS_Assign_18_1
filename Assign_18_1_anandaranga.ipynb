{
 "cells": [
  {
   "cell_type": "markdown",
   "metadata": {},
   "source": [
    "## Assignment 18.1\n",
    "### ACD MDS (Mar 2018 batch) Student: K. Anandaranga "
   ]
  },
  {
   "cell_type": "code",
   "execution_count": 1,
   "metadata": {},
   "outputs": [],
   "source": [
    "#Problem Statement 1:\n",
    "\n",
    "# Blood glucose levels for obese patients have a mean of 100 with a standard deviation of 15.\n",
    "# A researcher thinks that a diet high in raw cornstarch will have a positive effect on blood glucose levels. \n",
    "# A sample of 36 patients who have tried the raw cornstarch diet have a mean glucose level of 108. \n",
    "# Test the hypothesis that the raw cornstarch had an effect or not."
   ]
  },
  {
   "cell_type": "code",
   "execution_count": 2,
   "metadata": {},
   "outputs": [],
   "source": [
    "# Population mean           mu = 100\n",
    "# Population stdev       sigma = 15\n",
    "# Sample mean                s = 108\n",
    "# Sample size                n = 36\n",
    "\n",
    "# Null Hypothesis       :  No change in blood glucose due to diet change\n",
    "# Alternate Hypothesis  : There is a POSITIVE change in blood glucose levels due to diet change\n",
    "\n",
    "# Null Hypothesis H0: Sample mean blood glucose level is LESS THAN OR EQUAL TO population mean blood glucose level of 100\n",
    "# Alt  Hypothesis H1: Sample mean blood glucose level is GREATER THAN population mean blood glucose level of 100\n",
    "# Significance level: Alpha = 0.05\n",
    "\n",
    "# Since we know the population mean, we can use simple Z-test\n",
    "# Z = (s - mu)/(sig/sqrt(n))\n",
    "\n",
    "# this is one-tailed test"
   ]
  },
  {
   "cell_type": "code",
   "execution_count": 52,
   "metadata": {},
   "outputs": [
    {
     "name": "stdout",
     "output_type": "stream",
     "text": [
      "Z-value = 3.2, P-value = 0.00069, Alpha = 0.05\n",
      "Reject Ho ...so, diet had the positive impact on blood glucose levels\n"
     ]
    }
   ],
   "source": [
    "import math\n",
    "import scipy.stats as st\n",
    "\n",
    "mu = 100\n",
    "sigma = 15\n",
    "s = 108\n",
    "n = 36\n",
    "Z = (s - mu)/(sigma/math.sqrt(n))\n",
    "no_of_sides = 1\n",
    "alpha = 0.05\n",
    "\n",
    "pval = no_of_sides*(1- st.norm.cdf(Z))\n",
    "\n",
    "print (\"Z-value = {}, P-value = {:0.5f}, Alpha = {}\". format(Z, pval, alpha))\n",
    "if pval < alpha:\n",
    "    print (\"Reject Ho ...so, diet had the positive impact on blood glucose levels\")\n",
    "else:\n",
    "    print (\"Fail to reject Ho ... cannot say that diet had any positive impact on BG levels\")\n"
   ]
  },
  {
   "cell_type": "code",
   "execution_count": null,
   "metadata": {},
   "outputs": [],
   "source": []
  }
 ],
 "metadata": {
  "kernelspec": {
   "display_name": "Python 3",
   "language": "python",
   "name": "python3"
  },
  "language_info": {
   "codemirror_mode": {
    "name": "ipython",
    "version": 3
   },
   "file_extension": ".py",
   "mimetype": "text/x-python",
   "name": "python",
   "nbconvert_exporter": "python",
   "pygments_lexer": "ipython3",
   "version": "3.6.1"
  }
 },
 "nbformat": 4,
 "nbformat_minor": 2
}
